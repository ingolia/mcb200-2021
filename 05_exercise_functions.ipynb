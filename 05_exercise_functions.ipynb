{
 "cells": [
  {
   "cell_type": "markdown",
   "metadata": {},
   "source": [
    "### Exercises: Using Functions on Numbers and Strings"
   ]
  },
  {
   "cell_type": "markdown",
   "metadata": {},
   "source": [
    "#### The `int()` function\n",
    "\n",
    "The built-in `int()` function converts other data types to integers. Use `int()` to convert π to an integer and see the result.\n",
    "\n",
    "Remember that you need to `import math` to get use `math.pi`."
   ]
  },
  {
   "cell_type": "code",
   "execution_count": null,
   "metadata": {},
   "outputs": [],
   "source": []
  },
  {
   "cell_type": "markdown",
   "metadata": {},
   "source": [
    "`int()` can also be used to convert a string to an integer. Try out this use of `int()` to convert a _string_ representing the number 200 into an integer 200."
   ]
  },
  {
   "cell_type": "code",
   "execution_count": null,
   "metadata": {},
   "outputs": [],
   "source": []
  },
  {
   "cell_type": "markdown",
   "metadata": {},
   "source": [
    "Now, test the use of `int()` on the string `'MCB200'`, a string that does _not_ represent an integer, because it has letters in it."
   ]
  },
  {
   "cell_type": "code",
   "execution_count": null,
   "metadata": {},
   "outputs": [],
   "source": []
  },
  {
   "cell_type": "markdown",
   "metadata": {},
   "source": [
    "Use `int()` to convert _e_ (the natural logarithm base, Euler's number), given by `math.e`, to an integer."
   ]
  },
  {
   "cell_type": "code",
   "execution_count": null,
   "metadata": {},
   "outputs": [],
   "source": []
  },
  {
   "cell_type": "markdown",
   "metadata": {},
   "source": [
    "Is this different from the result you would expect? Python has a built-in function called `round()` that is specialized for converting numbers to integers. Use `round()` on _e_ instead."
   ]
  },
  {
   "cell_type": "markdown",
   "metadata": {},
   "source": []
  },
  {
   "cell_type": "markdown",
   "metadata": {},
   "source": [
    "#### String Functions and Methods\n",
    "\n",
    "Here is a short DNA sequence written in lower-case letters. \n",
    "\n",
    "```\n",
    "dna = 'atggctacacat'\n",
    "```\n",
    "\n",
    "Use the string methods we just learned to generate a corresponding RNA sequence. Recall that RNA sequences have uracil in place of thymine."
   ]
  },
  {
   "cell_type": "code",
   "execution_count": null,
   "metadata": {},
   "outputs": [],
   "source": []
  },
  {
   "cell_type": "markdown",
   "metadata": {},
   "source": [
    "Next, convert the RNA sequence into upper-case letters."
   ]
  },
  {
   "cell_type": "code",
   "execution_count": null,
   "metadata": {},
   "outputs": [],
   "source": []
  },
  {
   "cell_type": "markdown",
   "metadata": {},
   "source": [
    "Now, starting from the original `dna` string, switch the order of the two string methods. First convert the DNA sequence to upper-case letters, and then convert this into RNA. "
   ]
  },
  {
   "cell_type": "code",
   "execution_count": null,
   "metadata": {},
   "outputs": [],
   "source": []
  }
 ],
 "metadata": {
  "kernelspec": {
   "display_name": "Python 3",
   "language": "python",
   "name": "python3"
  },
  "language_info": {
   "codemirror_mode": {
    "name": "ipython",
    "version": 3
   },
   "file_extension": ".py",
   "mimetype": "text/x-python",
   "name": "python",
   "nbconvert_exporter": "python",
   "pygments_lexer": "ipython3",
   "version": "3.9.1"
  }
 },
 "nbformat": 4,
 "nbformat_minor": 4
}
