{
 "cells": [
  {
   "cell_type": "markdown",
   "metadata": {},
   "source": [
    "**Jupyter** allows you to write and run Python code through an interactive web browser interface.\n",
    "\n",
    "Each Jupyter **notebook** is a series of **cells** that can have Python code or text.\n",
    "\n",
    "The cell below contains Python code to carry out some simple arithmatic. You can run the code by selecting the cell and holding _shift_ while hitting _enter_. When you do this, the result of the arithmatic is displayed.\n",
    "\n",
    "Here is the Python code for some simple arithmatic\n",
    "```\n",
    "3 * 4 * 5\n",
    "```\n",
    "\n",
    "Try running the code in the cell below:"
   ]
  },
  {
   "cell_type": "code",
   "execution_count": null,
   "metadata": {},
   "outputs": [],
   "source": []
  },
  {
   "cell_type": "markdown",
   "metadata": {},
   "source": [
    "Now, go back and change one of the numbers. Re-run the cell by hitting _shift_+_enter_."
   ]
  },
  {
   "cell_type": "markdown",
   "metadata": {},
   "source": [
    "_Exercise._ Compute the sum of the first five positive numbers, 1 through 5 inclusive."
   ]
  },
  {
   "cell_type": "code",
   "execution_count": null,
   "metadata": {},
   "outputs": [],
   "source": []
  },
  {
   "cell_type": "markdown",
   "metadata": {},
   "source": [
    "### Variables\n",
    "\n",
    "Python can do much more than arithmatic. We can create and use named **variables**.\n",
    "\n",
    "To start, we'll create a variable named `x` and give it the value 7."
   ]
  },
  {
   "cell_type": "code",
   "execution_count": null,
   "metadata": {},
   "outputs": [],
   "source": []
  },
  {
   "cell_type": "markdown",
   "metadata": {},
   "source": [
    "There's no output when we do this, but Jupyter will keep track of this variable and we can use it later.\n",
    "\n",
    "Below, we'll calculate the square of `x`"
   ]
  },
  {
   "cell_type": "code",
   "execution_count": null,
   "metadata": {},
   "outputs": [],
   "source": []
  },
  {
   "cell_type": "markdown",
   "metadata": {},
   "source": [
    "We can give the variable `x` a new value, which will replace the old one.\n",
    "\n",
    "Going forward, any time we use `x`, it will have this new value.\n",
    "\n",
    "Below, we'll give `x` the value 17 instead of 7"
   ]
  },
  {
   "cell_type": "code",
   "execution_count": null,
   "metadata": {},
   "outputs": [],
   "source": []
  },
  {
   "cell_type": "markdown",
   "metadata": {},
   "source": [
    "Now, we can use this new value for `x` to compute the value of `x + 1`."
   ]
  },
  {
   "cell_type": "code",
   "execution_count": null,
   "metadata": {},
   "outputs": [],
   "source": []
  },
  {
   "cell_type": "markdown",
   "metadata": {},
   "source": [
    "We can even use the current value of `x` to compute a new value for `x`.\n",
    "\n",
    "Here, we'll set x to twice its current value and print this new value"
   ]
  },
  {
   "cell_type": "code",
   "execution_count": null,
   "metadata": {},
   "outputs": [],
   "source": []
  },
  {
   "cell_type": "markdown",
   "metadata": {},
   "source": [
    "We can have many named variables at once and use them in complicated ways"
   ]
  },
  {
   "cell_type": "code",
   "execution_count": null,
   "metadata": {},
   "outputs": [],
   "source": []
  },
  {
   "cell_type": "markdown",
   "metadata": {},
   "source": [
    "If we try to use a variable that we haven't given a value, Python will report an error to us.\n",
    "\n",
    "Try to use the value of `w`, which we haven't set yet."
   ]
  },
  {
   "cell_type": "code",
   "execution_count": null,
   "metadata": {},
   "outputs": [],
   "source": []
  },
  {
   "cell_type": "markdown",
   "metadata": {},
   "source": [
    "The value for a variable is calculated at the time it is assigned. If we use the variable `a` to compute the value that we give to variable `b`, and then we later change the value of `b`, this doesn't affect `a`.\n",
    "\n",
    "In the example below, we'll set `a` to 5, use it to compute a value for `b`, and then change `a` to 7."
   ]
  },
  {
   "cell_type": "code",
   "execution_count": null,
   "metadata": {},
   "outputs": [],
   "source": []
  },
  {
   "cell_type": "markdown",
   "metadata": {},
   "source": [
    "Check the value of `b`, which was computed when `a` was set to 5."
   ]
  },
  {
   "cell_type": "code",
   "execution_count": null,
   "metadata": {},
   "outputs": [],
   "source": []
  },
  {
   "cell_type": "markdown",
   "metadata": {},
   "source": [
    "Now, check the value of `a`, which was updated to 7 after it was used to compute the value for `b`."
   ]
  },
  {
   "cell_type": "code",
   "execution_count": null,
   "metadata": {},
   "outputs": [],
   "source": []
  },
  {
   "cell_type": "markdown",
   "metadata": {},
   "source": [
    "In the examples above, we used one-letter variable names similar to the ones we use in mathematics.\n",
    "\n",
    "It's often better to use longer and more descriptive names for variables. Clearer variable names will make it easier for others to understand your Python when reading it -- and for you to understand it yourself when you come back to it weeks or months later. \n",
    "\n",
    "For instance, here is Python code to define two variables representing the molecular masses of methionine and its oxidized derivative, methionine sulfoxide\n",
    "\n",
    "```\n",
    "methionine_mass = 131.0405\n",
    "meth_sulfox_mass = 147.0354\n",
    "```\n",
    "\n",
    "Paste this into the cells below and use these variables to calculate the change in molecular mass that occurs when methionine is oxidized one step."
   ]
  },
  {
   "cell_type": "code",
   "execution_count": null,
   "metadata": {},
   "outputs": [],
   "source": []
  },
  {
   "cell_type": "markdown",
   "metadata": {},
   "source": [
    "Of course, sometimes we want to work with very large or very small numbers. Python can both produce and understand scientific notation.\n",
    "\n",
    "Python defaults to scientific notation for very small numbers. For example, try printing the value of\n",
    "\n",
    "```\n",
    "1 / (1000 * 1000)\n",
    "```"
   ]
  },
  {
   "cell_type": "code",
   "execution_count": null,
   "metadata": {},
   "outputs": [],
   "source": []
  },
  {
   "cell_type": "markdown",
   "metadata": {},
   "source": [
    "And, we can use scientific notation to write even ordinary numbers. For instance, to write 4,300, we can convert to scientific notation of 4.3 &times; 10&sup3;, which in Python is\n",
    "\n",
    "```\n",
    "4.3e3\n",
    "```\n",
    "\n",
    "Use this way of writing the number in the cell below."
   ]
  },
  {
   "cell_type": "code",
   "execution_count": null,
   "metadata": {},
   "outputs": [],
   "source": []
  }
 ],
 "metadata": {
  "kernelspec": {
   "display_name": "Python 3",
   "language": "python",
   "name": "python3"
  },
  "language_info": {
   "codemirror_mode": {
    "name": "ipython",
    "version": 3
   },
   "file_extension": ".py",
   "mimetype": "text/x-python",
   "name": "python",
   "nbconvert_exporter": "python",
   "pygments_lexer": "ipython3",
   "version": "3.9.1"
  }
 },
 "nbformat": 4,
 "nbformat_minor": 4
}
