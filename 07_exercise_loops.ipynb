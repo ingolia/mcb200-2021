{
 "cells": [
  {
   "cell_type": "markdown",
   "metadata": {},
   "source": [
    "### Exercises: Lists and Loops"
   ]
  },
  {
   "cell_type": "markdown",
   "metadata": {},
   "source": [
    "#### Nucleotides\n",
    "\n",
    "Make a list named `nucleotides` that contains the one-letter names of the four DNA bases."
   ]
  },
  {
   "cell_type": "code",
   "execution_count": null,
   "metadata": {},
   "outputs": [],
   "source": []
  },
  {
   "cell_type": "markdown",
   "metadata": {},
   "source": [
    "#### Building Lists and Strings\n",
    "\n",
    "We saw that the loop below can be used to compute the running total of the numbers from 1 to 10.\n",
    "\n",
    "```\n",
    "total = 0\n",
    "for i in [1,2,3,4,5,6,7,8,9,10]:\n",
    "    total = total + i\n",
    "    print(total)\n",
    "```\n",
    "\n"
   ]
  },
  {
   "cell_type": "code",
   "execution_count": null,
   "metadata": {},
   "outputs": [],
   "source": []
  },
  {
   "cell_type": "markdown",
   "metadata": {},
   "source": [
    "Re-work this loop to build a _string_ that holds each of the numbers in the list. Recall that\n",
    "* We can combine two strings with `+` just like we combine two numbers\n",
    "* We can use `str()` to convert an integer into a string\n",
    "* We cannot add strings to integers, we can only add strings to other strings.\n",
    "* The _empty_ string with nothing in it is `''`. We can think of this like the \"zero\" of strings."
   ]
  },
  {
   "cell_type": "code",
   "execution_count": null,
   "metadata": {},
   "outputs": [],
   "source": []
  },
  {
   "cell_type": "markdown",
   "metadata": {},
   "source": [
    "Re-work the `for` loop above to _build a new list_ that has the _square_ of each number in the starting list. Building a list is just one step more complicated than building a string. \n",
    "\n",
    "For this exercise, recall that\n",
    "* We can use `append()` to add an _item_ on to a _list_.\n",
    "* The empty list, with no items in it, is `[]`. We can think of this like the \"zero\" of lists."
   ]
  },
  {
   "cell_type": "code",
   "execution_count": null,
   "metadata": {},
   "outputs": [],
   "source": []
  },
  {
   "cell_type": "markdown",
   "metadata": {},
   "source": [
    "#### Counting Amino Acids\n",
    "\n",
    "The cell below defines a variable `mfa1` that holds the protein sequence of the yeast gene _MFA1_, encoding a secreted mating pheromone.\n",
    "\n",
    "Write a `for` loop to count the number of lysine residues (one-letter code `K`) in `mfa1`.\n",
    "\n",
    "```\n",
    "mfa1 = 'MQPSTATAAPKEKTSSEKKDNYIIKGVFWDPACVIA'\n",
    "```"
   ]
  },
  {
   "cell_type": "code",
   "execution_count": null,
   "metadata": {},
   "outputs": [],
   "source": [
    "mfa1 = 'MQPSTATAAPKEKTSSEKKDNYIIKGVFWDPACVIA'"
   ]
  },
  {
   "cell_type": "markdown",
   "metadata": {},
   "source": [
    "Write a `for` loop to compute the net charge of Mfa1 at neutral pH. Remember that \n",
    "* lysine (K) and arginine (R) are negative\n",
    "* aspartate (D) and glutamate (E) are positive\n",
    "* histidine is borderline, but there are no histidines in Mfa1\n",
    "* the charge on the positive N-terminus and the negative C-terminus cancel out"
   ]
  },
  {
   "cell_type": "code",
   "execution_count": null,
   "metadata": {},
   "outputs": [],
   "source": []
  }
 ],
 "metadata": {
  "kernelspec": {
   "display_name": "Python 3",
   "language": "python",
   "name": "python3"
  },
  "language_info": {
   "codemirror_mode": {
    "name": "ipython",
    "version": 3
   },
   "file_extension": ".py",
   "mimetype": "text/x-python",
   "name": "python",
   "nbconvert_exporter": "python",
   "pygments_lexer": "ipython3",
   "version": "3.9.1"
  }
 },
 "nbformat": 4,
 "nbformat_minor": 4
}
