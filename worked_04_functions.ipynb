{
 "cells": [
  {
   "cell_type": "markdown",
   "metadata": {},
   "source": [
    "### Data types\n",
    "\n",
    "Python keeps track of different **data types** for each variable and each output it computes. We've already seen two different data types, in fact: one for integers (whole numbers) and one for numbers with a fractional part.\n",
    "\n",
    "We can use `type()` to ask Python, what is the type of this value?\n",
    "\n",
    "Here is an example, asking Python the type of the number `6`. The result of `int` is short for **int**eger."
   ]
  },
  {
   "cell_type": "code",
   "execution_count": null,
   "metadata": {},
   "outputs": [],
   "source": []
  },
  {
   "cell_type": "markdown",
   "metadata": {},
   "source": [
    "Below we ask Python the type of the number 2.5. The result of `float` is short for **float**ing-point number, which is a slightly confusing reference to the decimal point in a number with a fractional part."
   ]
  },
  {
   "cell_type": "code",
   "execution_count": null,
   "metadata": {},
   "outputs": [],
   "source": []
  },
  {
   "cell_type": "markdown",
   "metadata": {},
   "source": [
    "All of the values that Python computes have a data type.\n",
    "\n",
    "Below, we ask Python the type of the value computed when we do multiplication `2*3`"
   ]
  },
  {
   "cell_type": "code",
   "execution_count": null,
   "metadata": {},
   "outputs": [],
   "source": []
  },
  {
   "cell_type": "markdown",
   "metadata": {},
   "source": [
    "When we multiply two integers together, the result is also an integer.\n",
    "\n",
    "Division can create non-integers from integers, however. Even though `5` and `2` are integers, `5/2` is not an integer."
   ]
  },
  {
   "cell_type": "code",
   "execution_count": null,
   "metadata": {},
   "outputs": [],
   "source": []
  },
  {
   "cell_type": "markdown",
   "metadata": {},
   "source": [
    "Because division can create non-integers, the output of division is _always_ a `float`, even when the result happens to be a whole number and the fractional part is 0. We can see this when we divide `6` by `2`."
   ]
  },
  {
   "cell_type": "code",
   "execution_count": null,
   "metadata": {},
   "outputs": [],
   "source": []
  },
  {
   "cell_type": "markdown",
   "metadata": {},
   "source": [
    "In fact, we can write a whole number as a `float` by adding the decimal point and zero, like `6.0`"
   ]
  },
  {
   "cell_type": "code",
   "execution_count": null,
   "metadata": {},
   "outputs": [],
   "source": []
  },
  {
   "cell_type": "markdown",
   "metadata": {},
   "source": [
    "Because Python keeps track of data types, the integer `6` and the number `6.0` are not the same."
   ]
  },
  {
   "cell_type": "markdown",
   "metadata": {},
   "source": [
    "### Strings\n",
    "\n",
    "Python can also keep track of text in variables. We'll often use text to store DNA or protein sequences using one-letter codes. The type of this text data is `str`, because the text is a **str**ing of characters.\n",
    "\n",
    "To write a text string in Python, enclose it in single quotes. Using quotes allows Python to distinguish a text string from the name of a variable: `'x'` is a one-letter text string, and `x` refers to a variable with a one-letter name.\n",
    "\n",
    "Here we look at the type of the string `'MCB200'`"
   ]
  },
  {
   "cell_type": "code",
   "execution_count": null,
   "metadata": {},
   "outputs": [],
   "source": []
  },
  {
   "cell_type": "markdown",
   "metadata": {},
   "source": [
    "We can join two strings together using `+`. Joining strings like this is called **concatenation**. Below we join the string `'MCB'` with the string `'200'`."
   ]
  },
  {
   "cell_type": "code",
   "execution_count": null,
   "metadata": {},
   "outputs": [],
   "source": []
  },
  {
   "cell_type": "markdown",
   "metadata": {},
   "source": [
    "Notice that the string `'200'` is different from the number `200`. The string is a sequence of three characters that happen to be digits, and adding two strings that happen to be numbers will not perform arithmatic.\n",
    "\n",
    "Here we add the string `'200'` to the string `'100'`"
   ]
  },
  {
   "cell_type": "code",
   "execution_count": null,
   "metadata": {},
   "outputs": [],
   "source": []
  },
  {
   "cell_type": "markdown",
   "metadata": {},
   "source": [
    "What happens when we try to add a string with an integer?"
   ]
  },
  {
   "cell_type": "code",
   "execution_count": null,
   "metadata": {},
   "outputs": [],
   "source": []
  },
  {
   "cell_type": "markdown",
   "metadata": {},
   "source": [
    "The string `'200'` and the integer `100` are incompatible types, and when we try to add them, it produces a \"type error\". But, what if we have an integer and we want to turn it into a string?\n",
    "\n",
    "We can use `str(...)` to convert a number into a string, like this:"
   ]
  },
  {
   "cell_type": "code",
   "execution_count": null,
   "metadata": {},
   "outputs": [],
   "source": []
  },
  {
   "cell_type": "markdown",
   "metadata": {},
   "source": [
    "### Functions"
   ]
  },
  {
   "cell_type": "markdown",
   "metadata": {},
   "source": [
    "`str()` is one example of a **function** in Python. We actually saw another example as well, `type()`.\n",
    "\n",
    "Both of these functions take an **argument** as input and **return** a value computed using the argument. We say that we **call** a function when we run it.\n",
    "\n",
    "The absolute value function `abs()` is also available in Python. Below we will call `abs()` on the value `-100` and see the return value."
   ]
  },
  {
   "cell_type": "code",
   "execution_count": 1,
   "metadata": {},
   "outputs": [
    {
     "data": {
      "text/plain": [
       "100"
      ]
     },
     "execution_count": 1,
     "metadata": {},
     "output_type": "execute_result"
    }
   ],
   "source": [
    "abs(-100)"
   ]
  },
  {
   "cell_type": "markdown",
   "metadata": {},
   "source": [
    "We can carry out further computations using the value returned by a function.\n",
    "\n",
    "Below take the absolute value of -100 and then multiply the result by 2. In mathematical terms, we're calculating _2 * |-100|_"
   ]
  },
  {
   "cell_type": "code",
   "execution_count": 2,
   "metadata": {},
   "outputs": [
    {
     "data": {
      "text/plain": [
       "200"
      ]
     },
     "execution_count": 2,
     "metadata": {},
     "output_type": "execute_result"
    }
   ],
   "source": [
    "2 * abs(-100)"
   ]
  },
  {
   "cell_type": "markdown",
   "metadata": {},
   "source": [
    "We can also use complicated expressions as the argument to a function.\n",
    "\n",
    "As shown below, we can compute the integer `200` using `abs()`, convert it into a string, and combine it with `'MCB'`"
   ]
  },
  {
   "cell_type": "code",
   "execution_count": 5,
   "metadata": {},
   "outputs": [
    {
     "data": {
      "text/plain": [
       "'MCB200'"
      ]
     },
     "execution_count": 5,
     "metadata": {},
     "output_type": "execute_result"
    }
   ],
   "source": [
    "'MCB' + str(abs(-200))"
   ]
  },
  {
   "cell_type": "markdown",
   "metadata": {},
   "source": [
    "Some functions take more than one argument. For instance, `max()` finds the maximum value among all of its arguments.\n",
    "\n",
    "Here we find the largest number among `3`, `5`, and `4`:"
   ]
  },
  {
   "cell_type": "code",
   "execution_count": 6,
   "metadata": {},
   "outputs": [
    {
     "data": {
      "text/plain": [
       "5"
      ]
     },
     "execution_count": 6,
     "metadata": {},
     "output_type": "execute_result"
    }
   ],
   "source": [
    "max(3, 5, 4)"
   ]
  },
  {
   "cell_type": "markdown",
   "metadata": {},
   "source": [
    "Python has a small collection of built-in functions, like `str()` and `abs()`, that are always available.\n",
    "\n",
    "Another built-in function, `len()`, takes a string as an argument and returns the length of the string -- i.e., the nubmer of characters in the string."
   ]
  },
  {
   "cell_type": "code",
   "execution_count": 7,
   "metadata": {},
   "outputs": [
    {
     "data": {
      "text/plain": [
       "6"
      ]
     },
     "execution_count": 7,
     "metadata": {},
     "output_type": "execute_result"
    }
   ],
   "source": [
    "len('MCB200')"
   ]
  },
  {
   "cell_type": "markdown",
   "metadata": {},
   "source": [
    "The built-in function `print()` is useful for displaying the results of a computation in the middle of a cell. There were several places above where we split a single calculation across multiple cells in order to see an intermediate value. Other times, we assigned a value to a variable and then immediately used the variable just to see the result. In each of those cases, we could instead use `print()` to display the result and keep going.\n",
    "\n",
    "Below, we use print to display some intermediate values when multiplying together two integers and then dividing them again, which produces a floating-point number."
   ]
  },
  {
   "cell_type": "code",
   "execution_count": 9,
   "metadata": {},
   "outputs": [
    {
     "name": "stdout",
     "output_type": "stream",
     "text": [
      "2\n",
      "3\n",
      "6\n"
     ]
    },
    {
     "data": {
      "text/plain": [
       "2.0"
      ]
     },
     "execution_count": 9,
     "metadata": {},
     "output_type": "execute_result"
    }
   ],
   "source": [
    "x = 2\n",
    "y = 3\n",
    "print(x)\n",
    "print(y)\n",
    "z = x * y\n",
    "print(z)\n",
    "z / y"
   ]
  },
  {
   "cell_type": "code",
   "execution_count": 12,
   "metadata": {},
   "outputs": [
    {
     "data": {
      "text/plain": [
       "'300'"
      ]
     },
     "execution_count": 12,
     "metadata": {},
     "output_type": "execute_result"
    }
   ],
   "source": [
    "str(int('200') + 100)"
   ]
  },
  {
   "cell_type": "code",
   "execution_count": 13,
   "metadata": {},
   "outputs": [
    {
     "ename": "ValueError",
     "evalue": "invalid literal for int() with base 10: 'MCB200'",
     "output_type": "error",
     "traceback": [
      "\u001b[0;31m---------------------------------------------------------------------------\u001b[0m",
      "\u001b[0;31mValueError\u001b[0m                                Traceback (most recent call last)",
      "\u001b[0;32m/tmp/ipykernel_94/2936388594.py\u001b[0m in \u001b[0;36m<module>\u001b[0;34m\u001b[0m\n\u001b[0;32m----> 1\u001b[0;31m \u001b[0mint\u001b[0m\u001b[0;34m(\u001b[0m\u001b[0;34m'MCB200'\u001b[0m\u001b[0;34m)\u001b[0m\u001b[0;34m\u001b[0m\u001b[0;34m\u001b[0m\u001b[0m\n\u001b[0m",
      "\u001b[0;31mValueError\u001b[0m: invalid literal for int() with base 10: 'MCB200'"
     ]
    }
   ],
   "source": [
    "int('MCB200')"
   ]
  },
  {
   "cell_type": "code",
   "execution_count": 14,
   "metadata": {},
   "outputs": [
    {
     "data": {
      "text/plain": [
       "3"
      ]
     },
     "execution_count": 14,
     "metadata": {},
     "output_type": "execute_result"
    }
   ],
   "source": [
    "int(3.1)"
   ]
  },
  {
   "cell_type": "markdown",
   "metadata": {},
   "source": [
    "The `print()` function has a special behavior with strings -- it doesn't display the quote marks and instead prints just the contents of the string.\n",
    "\n",
    "Below we show the constrast between using `print()` on a string and displaying the string as the result of a computation."
   ]
  },
  {
   "cell_type": "code",
   "execution_count": null,
   "metadata": {},
   "outputs": [],
   "source": []
  },
  {
   "cell_type": "code",
   "execution_count": null,
   "metadata": {},
   "outputs": [],
   "source": []
  },
  {
   "cell_type": "markdown",
   "metadata": {},
   "source": [
    "### Modules\n",
    "\n",
    "In addition to these built-in functions, Python **modules** provide many other functions. For instance, many mathematical functions can be found in the `math` module. To use these functions, we must first **import** the `math` module. Once we do that, we can use mathematical functions such as `math.sqrt()`, which computes the square root of its argument.\n",
    "\n",
    "We do this with\n",
    "\n",
    "```\n",
    "import math\n",
    "math.sqrt(49)\n",
    "```"
   ]
  },
  {
   "cell_type": "code",
   "execution_count": null,
   "metadata": {},
   "outputs": [],
   "source": []
  },
  {
   "cell_type": "markdown",
   "metadata": {},
   "source": [
    "The `math` module also provides mathematical constants like π, named `math.pi`"
   ]
  },
  {
   "cell_type": "code",
   "execution_count": null,
   "metadata": {},
   "outputs": [],
   "source": []
  },
  {
   "cell_type": "markdown",
   "metadata": {},
   "source": [
    "### Methods\n",
    "\n",
    "A **method** is a special kind of Python function that is \"attached\" to a Python type. For example, the `str` data type has many methods to carry out operations that make sense for a string.\n",
    "\n",
    "For example, the `upper()` method returns a version of a string with all the letters converted to upper-case. \n",
    "\n",
    "Below we demonstrate the use of `upper()` on the string `'mcb200'`. Keep in mind that `upper()` doesn't take any arguments. We still need parentheses to indicate to Python that we're calling a function, and we can just use empty parentheses."
   ]
  },
  {
   "cell_type": "code",
   "execution_count": null,
   "metadata": {},
   "outputs": [],
   "source": []
  },
  {
   "cell_type": "markdown",
   "metadata": {},
   "source": [
    "For comparison, we can see what happens when we leave off the parentheses:"
   ]
  },
  {
   "cell_type": "code",
   "execution_count": null,
   "metadata": {},
   "outputs": [],
   "source": []
  },
  {
   "cell_type": "markdown",
   "metadata": {},
   "source": [
    "The string method `replace()` creates a new string where a specified sub-string is replaced with something else. This method has two arguments: the substring to be changed, and the replacement.\n",
    "\n",
    "Below, we show how `.replace()` can be used to change every occurrence of \"ight\" to \"ite\" in a short sentence, \"turn right at the light tonight\"."
   ]
  },
  {
   "cell_type": "code",
   "execution_count": null,
   "metadata": {},
   "outputs": [],
   "source": []
  },
  {
   "cell_type": "markdown",
   "metadata": {},
   "source": [
    "The string methods like `upper()` and `replace()` don't change the string itself, but instead make a new string based on the old one. We can see this by storing a string in a variable, using `upper()`, and then checking the original value of the variable."
   ]
  },
  {
   "cell_type": "code",
   "execution_count": null,
   "metadata": {},
   "outputs": [],
   "source": []
  },
  {
   "cell_type": "markdown",
   "metadata": {},
   "source": [
    "In fact, we can never change the contents of an existing string; in Python, strings are **immutable**. We can assign a new string to an existing variable and replace the existing string, just as we could assign a new number to an existing variable to replace its current value.\n",
    "\n",
    "Later on, we'll see other data types that are **mutable**."
   ]
  }
 ],
 "metadata": {
  "kernelspec": {
   "display_name": "Python 3 (ipykernel)",
   "language": "python",
   "name": "python3"
  },
  "language_info": {
   "codemirror_mode": {
    "name": "ipython",
    "version": 3
   },
   "file_extension": ".py",
   "mimetype": "text/x-python",
   "name": "python",
   "nbconvert_exporter": "python",
   "pygments_lexer": "ipython3",
   "version": "3.9.7"
  }
 },
 "nbformat": 4,
 "nbformat_minor": 4
}
