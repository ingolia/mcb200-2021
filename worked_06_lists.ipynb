{
 "cells": [
  {
   "cell_type": "markdown",
   "metadata": {},
   "source": [
    "### Lists\n",
    "\n",
    "In Python, we can build a **list** of individual data values.\n",
    "\n",
    "Here is the Python code to create a list of the five English vowels. Python lists are written inside square brackets with commas separating each element.\n",
    "\n",
    "```\n",
    "vowels = ['a', 'e', 'i', 'o', 'u']\n",
    "vowels\n",
    "```"
   ]
  },
  {
   "cell_type": "code",
   "execution_count": 1,
   "metadata": {},
   "outputs": [
    {
     "data": {
      "text/plain": [
       "['a', 'e', 'i', 'o', 'u']"
      ]
     },
     "execution_count": 1,
     "metadata": {},
     "output_type": "execute_result"
    }
   ],
   "source": [
    "vowels = [ 'a', 'e', 'i', 'o', 'u' ]\n",
    "vowels"
   ]
  },
  {
   "cell_type": "markdown",
   "metadata": {},
   "source": [
    "Conceptually, the elements of the list are numbered **starting with 0**. In the `vowels` list, the first entry, corresponding to the vowel \"a\", is numbered 0. Looking up an element of the list by number is called **indexing**.\n",
    "\n",
    "Here is the Python code to find the third entry in the list `vowels`, which has index 2.\n",
    "\n",
    "```\n",
    "vowels[2]\n",
    "```\n",
    "\n",
    "Below we index into the list of vowels to get the third entry, which has index 2."
   ]
  },
  {
   "cell_type": "code",
   "execution_count": 7,
   "metadata": {},
   "outputs": [
    {
     "data": {
      "text/plain": [
       "'i'"
      ]
     },
     "execution_count": 7,
     "metadata": {},
     "output_type": "execute_result"
    }
   ],
   "source": [
    "vowels[2]"
   ]
  },
  {
   "cell_type": "markdown",
   "metadata": {},
   "source": [
    "As a note, we can index into a string as well. Lists, strings, and many other individual Python data types are all **sequences** that share some common features.\n",
    "\n",
    "For instance, below we find the 3rd item in the string `'MCB200'`."
   ]
  },
  {
   "cell_type": "code",
   "execution_count": 8,
   "metadata": {},
   "outputs": [
    {
     "data": {
      "text/plain": [
       "'B'"
      ]
     },
     "execution_count": 8,
     "metadata": {},
     "output_type": "execute_result"
    }
   ],
   "source": [
    "'MCB200'[2]"
   ]
  },
  {
   "cell_type": "markdown",
   "metadata": {},
   "source": [
    "Another feature of lists, strings, and other sequences is the `len()` function. Thus, it can be used to find the length of a list, just as we used it to find the length of a string.\n",
    "\n",
    "Note that, since items are numbered starting from zero, the items in a list go from `0` through `len(...)-1` inclusive."
   ]
  },
  {
   "cell_type": "code",
   "execution_count": 11,
   "metadata": {},
   "outputs": [
    {
     "data": {
      "text/plain": [
       "5"
      ]
     },
     "execution_count": 11,
     "metadata": {},
     "output_type": "execute_result"
    }
   ],
   "source": [
    "len(vowels)"
   ]
  },
  {
   "cell_type": "markdown",
   "metadata": {},
   "source": [
    "Lists are **mutable**, in contrast to strings. For example, we can change one item in the list of vowels. To change an item in a list, assign a new value to it just as if it were a variable.\n",
    "\n",
    "To change an entry in a list, we can assign a value to the entry just as we assign a value to a variable. For example, here is the Python code to replace the entry for \"i\" with an upper-case \"I\".\n",
    "\n",
    "```\n",
    "vowels[2] = 'I'\n",
    "```\n"
   ]
  },
  {
   "cell_type": "code",
   "execution_count": 14,
   "metadata": {},
   "outputs": [
    {
     "data": {
      "text/plain": [
       "['a', 'e', 'I', 'o', 'u']"
      ]
     },
     "execution_count": 14,
     "metadata": {},
     "output_type": "execute_result"
    }
   ],
   "source": [
    "vowels[2] = 'I'\n",
    "vowels"
   ]
  },
  {
   "cell_type": "markdown",
   "metadata": {},
   "source": [
    "We can also change the list itself, by adding more items. The `append()` method puts a new item on the end of a list.\n",
    "\n",
    "The Python code to add a \"y\" to our list of vowels is\n",
    "\n",
    "```\n",
    "vowels.append('y')\n",
    "```"
   ]
  },
  {
   "cell_type": "code",
   "execution_count": 22,
   "metadata": {},
   "outputs": [
    {
     "data": {
      "text/plain": [
       "['a', 'I', 'o', 'u', 'y']"
      ]
     },
     "execution_count": 22,
     "metadata": {},
     "output_type": "execute_result"
    }
   ],
   "source": [
    "# len(vowels) <-- function\n",
    "# vowels.append('y') <-- METHOD attached to lists\n",
    "vowels\n",
    "# vowels.remove('y')\n",
    "# del vowels[1]"
   ]
  },
  {
   "cell_type": "markdown",
   "metadata": {},
   "source": [
    "A list can hold different types of items, including other lists!\n",
    "\n",
    "Below we create a list with an integer, a floating-point number, a string, and another list:"
   ]
  },
  {
   "cell_type": "code",
   "execution_count": 23,
   "metadata": {},
   "outputs": [
    {
     "data": {
      "text/plain": [
       "[17, 2.5, 'MCB200', ['a', 'I', 'o', 'u', 'y']]"
      ]
     },
     "execution_count": 23,
     "metadata": {},
     "output_type": "execute_result"
    }
   ],
   "source": [
    "[ 17, 2.5, 'MCB200', vowels ]"
   ]
  },
  {
   "cell_type": "markdown",
   "metadata": {},
   "source": [
    "### Iteration (`for` loops)\n",
    "\n",
    "The `for` loop in Python allows us to repeat an action for each element of a list, in order. Within the `for` loop, there is a special **loop variable** that will hold the value of the list item.\n",
    "\n",
    "The **body** of the `for` loop is the block of Python executed once for each item in the list. The loop body is indented underneath the line starting the `for` loop. In the example below, we loop over each vowel in our list of vowels and print that vowel. We name the loop variable here `v`.\n",
    "\n",
    "```\n",
    "for v in vowels:\n",
    "    print(v)\n",
    "```"
   ]
  },
  {
   "cell_type": "code",
   "execution_count": 24,
   "metadata": {},
   "outputs": [
    {
     "name": "stdout",
     "output_type": "stream",
     "text": [
      "a\n",
      "I\n",
      "o\n",
      "u\n",
      "y\n"
     ]
    }
   ],
   "source": [
    "for v in vowels:\n",
    "    print(v)"
   ]
  },
  {
   "cell_type": "markdown",
   "metadata": {},
   "source": [
    "Just as with indexing, we can loop over the characters in a string just like we loop over items in a list. Here we loop over each individual character in the string `'MCB200'` and print that character."
   ]
  },
  {
   "cell_type": "code",
   "execution_count": 26,
   "metadata": {},
   "outputs": [
    {
     "name": "stdout",
     "output_type": "stream",
     "text": [
      "y\n",
      "y\n",
      "y\n",
      "y\n",
      "y\n",
      "y\n"
     ]
    }
   ],
   "source": [
    "for x in 'MCB200':\n",
    "    print(v)"
   ]
  },
  {
   "cell_type": "markdown",
   "metadata": {},
   "source": [
    "A `for` loop **iterates** over each item in a list or a string. We can iterate over sequences, and more generally, over the items in other kinds of **collections** that we'll learn about later."
   ]
  },
  {
   "cell_type": "markdown",
   "metadata": {},
   "source": [
    "We can use the `for` loop to do more than just print items from a list. For example, we can use a `for` loop to compute a running total of items in a list. To do this, we'll make a (non-loop) variable to hold the running sum and initialize it to zero. \n",
    "\n",
    "```\n",
    "total = 0\n",
    "```\n",
    "\n",
    "Then, we'll iterate through the items in the list and add each item to this running sum. \n",
    "\n",
    "```\n",
    "for i in [1,2,3,4,5,6,7,8,9,10]:\n",
    "    total = total + i\n",
    "    print(total)\n",
    "```"
   ]
  },
  {
   "cell_type": "code",
   "execution_count": 27,
   "metadata": {},
   "outputs": [
    {
     "name": "stdout",
     "output_type": "stream",
     "text": [
      "1\n",
      "3\n",
      "6\n",
      "10\n",
      "15\n",
      "21\n",
      "28\n",
      "36\n",
      "45\n",
      "55\n"
     ]
    }
   ],
   "source": [
    "total = 0\n",
    "for i in [1, 2, 3, 4, 5, 6, 7, 8, 9, 10]:\n",
    "    total = total + i\n",
    "    print(total)"
   ]
  },
  {
   "cell_type": "markdown",
   "metadata": {},
   "source": [
    "Recall that $ \\sum\\limits_{i=1}^{n} i = \\frac{n \\cdot (n+1)}{2}$ and so our final result $\\frac{10\\cdot11}{2} = 55$ is correct. The intermediate values $\\frac{1\\cdot2}{2} = 1, \\frac{2\\cdot3}{2} = 3, \\cdots$ all check out too."
   ]
  },
  {
   "cell_type": "markdown",
   "metadata": {},
   "source": [
    "### Conditionals (`if` statements)"
   ]
  },
  {
   "cell_type": "markdown",
   "metadata": {},
   "source": [
    "We can perform true/false tests, like comparing two numbers or checking whether two strings are equal. \n",
    "\n",
    "For example, here is the Python code to test whether 3 is larger than 2\n",
    "\n",
    "```\n",
    "3 > 2\n",
    "```\n"
   ]
  },
  {
   "cell_type": "code",
   "execution_count": 31,
   "metadata": {},
   "outputs": [
    {
     "data": {
      "text/plain": [
       "False"
      ]
     },
     "execution_count": 31,
     "metadata": {},
     "output_type": "execute_result"
    }
   ],
   "source": [
    "len(vowels) > 20"
   ]
  },
  {
   "cell_type": "markdown",
   "metadata": {},
   "source": [
    "These `True` / `False` results are a data type called `bool`, short for Boolean, which refers to a systematic approach to this sort of true/false logic.\n",
    "\n",
    "In Boolean logic, true/false values can be combined using _and_ and _or_, and transformed using _not_. Python has exact equivalents of these, allowing us to build more complex tests. Note that Python's `or` is \"inclusive\", that is, `a or b` is `true` when at least one of `a` or `b` are true, including when both are true."
   ]
  },
  {
   "cell_type": "code",
   "execution_count": 33,
   "metadata": {},
   "outputs": [
    {
     "data": {
      "text/plain": [
       "False"
      ]
     },
     "execution_count": 33,
     "metadata": {},
     "output_type": "execute_result"
    }
   ],
   "source": [
    "3 > 3 or 2 > 2"
   ]
  },
  {
   "cell_type": "markdown",
   "metadata": {},
   "source": [
    "To test whether two values are equal to each other, we use a double equal sign symbol, `==`. This symbol distinguishes _testing_ whether two values are equal from _assigning_ a value to a variable, which uses a single equal sign (_e.g._, `x = 3`).\n",
    "\n",
    "The `!=` operator tests whether two values are not equal.\n",
    "\n",
    "We can use `==` to compare integers or strings like so\n",
    "\n",
    "```\n",
    "print(3 == 4)\n",
    "print(2*2 == 4)\n",
    "print('4' == 4)\n",
    "print('4' == str(4))\n",
    "```"
   ]
  },
  {
   "cell_type": "code",
   "execution_count": 39,
   "metadata": {},
   "outputs": [
    {
     "name": "stdout",
     "output_type": "stream",
     "text": [
      "False\n",
      "True\n",
      "False\n",
      "True\n",
      "True\n"
     ]
    }
   ],
   "source": [
    "print(3 == 4)\n",
    "print(2*2 == 4)\n",
    "print('4' == 4)\n",
    "print('4' == str(4))\n",
    "print(int('4') == 4)"
   ]
  },
  {
   "cell_type": "markdown",
   "metadata": {},
   "source": [
    "An `if` statement runs the Python code in its _body_ when a **condition** is `True`, and skips it when the condition is `False`. The body of the `if` statement is indented, like the body of a `for` statement.\n",
    "\n",
    "```\n",
    "x = 3\n",
    "if x > 0:\n",
    "    print('x is positive!')\n",
    "\n",
    "if x < 0:\n",
    "    print('x is negative!')\n",
    "```"
   ]
  },
  {
   "cell_type": "code",
   "execution_count": 42,
   "metadata": {},
   "outputs": [],
   "source": [
    "x = 0\n",
    "if x > 0:\n",
    "    print('x is positive!')\n",
    "if x < 0:\n",
    "    print('x is negative!')"
   ]
  },
  {
   "cell_type": "markdown",
   "metadata": {},
   "source": [
    "The body of the first `if` statement is run and prints a result, but the body of the second `if` statement is skipped.\n",
    "\n",
    "We can do more than just `print()` something in the body of an `if` statement, just like the `for` statement. For example, we can change the value of a variable."
   ]
  },
  {
   "cell_type": "code",
   "execution_count": 43,
   "metadata": {},
   "outputs": [
    {
     "name": "stdout",
     "output_type": "stream",
     "text": [
      "positive\n"
     ]
    }
   ],
   "source": [
    "x = 3\n",
    "sign = 'neither'\n",
    "if x > 0:\n",
    "    sign = 'positive'\n",
    "if x < 0:\n",
    "    sign = 'negative'\n",
    "print(sign)"
   ]
  },
  {
   "cell_type": "markdown",
   "metadata": {},
   "source": [
    "In the examples above, we're picking between one of a few alternatives. We can use a special \"if-else\" construction to do this more easily, as shown in the example below. `elif` is short for else-if.\n",
    "\n",
    "For example, we can use `if` / `elif` / `else` as shown below\n",
    "\n",
    "```\n",
    "if x > 0:\n",
    "    print('x is positive!')\n",
    "elif x < 0: \n",
    "    print('x is negative!')\n",
    "else:\n",
    "    print('x is exactly zero!')\n",
    "```\n",
    "\n",
    "Now let's write code to convert a single-letter abbreviation for a DNA base into a name."
   ]
  },
  {
   "cell_type": "code",
   "execution_count": 46,
   "metadata": {},
   "outputs": [
    {
     "name": "stdout",
     "output_type": "stream",
     "text": [
      "unknown\n"
     ]
    }
   ],
   "source": [
    "nt = 'B'\n",
    "if nt == 'A':\n",
    "    print('adenine')\n",
    "elif nt == 'C':\n",
    "    print('cytosine')\n",
    "elif nt == 'G':\n",
    "    print('guanine')\n",
    "elif nt == 'T':\n",
    "    print('thymine')\n",
    "else:\n",
    "    print('unknown')"
   ]
  },
  {
   "cell_type": "markdown",
   "metadata": {},
   "source": [
    "We can also combine `if` and `for` to carry out complex operations.\n",
    "\n",
    "In the example below, we use a `for` loop to iterate over each nucleotide in the EcoRI recognition site and print the name of the associated base.\n",
    "\n",
    "```\n",
    "ecori = 'GAATTC'\n",
    "```"
   ]
  },
  {
   "cell_type": "code",
   "execution_count": 48,
   "metadata": {},
   "outputs": [
    {
     "name": "stdout",
     "output_type": "stream",
     "text": [
      "guanine\n",
      "adenine\n",
      "adenine\n",
      "thymine\n",
      "thymine\n",
      "cytosine\n"
     ]
    }
   ],
   "source": [
    "ecori = 'GAATTC'\n",
    "for nt in ecori:\n",
    "    if nt == 'A':\n",
    "        print('adenine')\n",
    "    elif nt == 'C':\n",
    "        print('cytosine')\n",
    "    elif nt == 'G':\n",
    "        print('guanine')\n",
    "    elif nt == 'T':\n",
    "        print('thymine')\n",
    "    else:\n",
    "        print('unknown')"
   ]
  },
  {
   "cell_type": "code",
   "execution_count": null,
   "metadata": {},
   "outputs": [],
   "source": []
  }
 ],
 "metadata": {
  "kernelspec": {
   "display_name": "Python 3 (ipykernel)",
   "language": "python",
   "name": "python3"
  },
  "language_info": {
   "codemirror_mode": {
    "name": "ipython",
    "version": 3
   },
   "file_extension": ".py",
   "mimetype": "text/x-python",
   "name": "python",
   "nbconvert_exporter": "python",
   "pygments_lexer": "ipython3",
   "version": "3.9.7"
  }
 },
 "nbformat": 4,
 "nbformat_minor": 4
}
