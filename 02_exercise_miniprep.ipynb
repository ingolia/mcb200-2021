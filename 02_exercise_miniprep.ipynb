{
 "cells": [
  {
   "cell_type": "markdown",
   "metadata": {},
   "source": [
    "### Exercise: Number of Plasmid Molecules in a Miniprep\n",
    "\n",
    "A standard plasmid miniprep could produce 10 micrograms of plasmid DNA. Create a variable named `miniprep_grams` with a value of the miniprep yield in _grams_ (not micrograms)."
   ]
  },
  {
   "cell_type": "code",
   "execution_count": null,
   "metadata": {},
   "outputs": [],
   "source": []
  },
  {
   "cell_type": "markdown",
   "metadata": {},
   "source": [
    "A typical plasmid containing a GFP reporter might be about 5 kilobase pairs long. Create a variable named `plasmid_bps` holding the length of the plasmid in _base pairs_ (not kilo-base pairs)."
   ]
  },
  {
   "cell_type": "code",
   "execution_count": null,
   "metadata": {},
   "outputs": [],
   "source": []
  },
  {
   "cell_type": "markdown",
   "metadata": {},
   "source": [
    "The molecular mass of one base pair of DNA is roughly 670 grams per mole (i.e., 670 daltons). Use your `plasmid_bps` variable to create a new variable named `plasmid_da` containing the molecular mass of the whole plasmid, in daltons. Print its value."
   ]
  },
  {
   "cell_type": "code",
   "execution_count": null,
   "metadata": {},
   "outputs": [],
   "source": []
  },
  {
   "cell_type": "markdown",
   "metadata": {},
   "source": [
    "Using `plasmid_da` and `miniprep_grams`, compute the yield of the plasmid in _moles_. Store this result in a variable called `miniprep_moles` and print its value."
   ]
  },
  {
   "cell_type": "code",
   "execution_count": null,
   "metadata": {},
   "outputs": [],
   "source": []
  },
  {
   "cell_type": "markdown",
   "metadata": {},
   "source": [
    "Avogadro's constant, roughly 6.02 &times; 10<sup>23</sup>, is the number of molecules per mole. Use this constant to compute the number of copies of plasmid DNA in the miniprep. Store the result in a variable called `miniprep_molecules` and print this result."
   ]
  },
  {
   "cell_type": "code",
   "execution_count": 1,
   "metadata": {},
   "outputs": [],
   "source": [
    "avogadro = 6.02e23"
   ]
  },
  {
   "cell_type": "markdown",
   "metadata": {},
   "source": [
    "The miniprep produces 30 µl of DNA. Create a variable called `miniprep_liter` containing the volume of the miniprep in _liters_ (not milliliters or microliters)."
   ]
  },
  {
   "cell_type": "code",
   "execution_count": null,
   "metadata": {},
   "outputs": [],
   "source": []
  },
  {
   "cell_type": "markdown",
   "metadata": {},
   "source": [
    "Compute the molar concentration of DNA in the miniprep, in moles per liter. Store the result in a variable called `miniprep_molar` and print the result."
   ]
  },
  {
   "cell_type": "code",
   "execution_count": null,
   "metadata": {},
   "outputs": [],
   "source": []
  }
 ],
 "metadata": {
  "kernelspec": {
   "display_name": "Python 3",
   "language": "python",
   "name": "python3"
  },
  "language_info": {
   "codemirror_mode": {
    "name": "ipython",
    "version": 3
   },
   "file_extension": ".py",
   "mimetype": "text/x-python",
   "name": "python",
   "nbconvert_exporter": "python",
   "pygments_lexer": "ipython3",
   "version": "3.9.1"
  }
 },
 "nbformat": 4,
 "nbformat_minor": 4
}
